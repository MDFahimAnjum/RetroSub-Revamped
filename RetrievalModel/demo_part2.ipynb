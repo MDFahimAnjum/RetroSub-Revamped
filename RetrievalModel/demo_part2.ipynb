{
 "cells": [
  {
   "cell_type": "markdown",
   "metadata": {},
   "source": [
    "# Demo: Part 2\n",
    "\n",
    "This notebook is part 2 of a 3-part demonstration of the model, tested on a Windows 11 machine.\n",
    "\n",
    "### Instructions:\n",
    "\n",
    "1. **Setup**: Follow the instructions in [README.md](../README.md) (also given in [demo_part1.ipynb](../demo_part1.ipynb)) to:\n",
    "   - Set up the required [Conda environments](../README.md#setup).\n",
    "   - Download all necessary [data and models](../README.md#download-models-and-data).\n",
    "   - Prepare codebase of the [submodule](../README.md#prepare-codebase)  \n",
    "\n",
    "2. **Preparation**: Complete the steps in [demo_part1.ipynb](../demo_part1.ipynb) before running this notebook.  \n",
    "\n",
    "3. **Environment**: Activate the `retrieval` Conda virtual environment to run this notebook. Refer to [README.md](../README.md) for detailed setup guidance.  \n",
    "\n",
    "4. **Next Step**: Once you finish this notebook, proceed to [../demo_part3.ipynb](../demo_part3.ipynb)."
   ]
  },
  {
   "cell_type": "code",
   "execution_count": 2,
   "metadata": {},
   "outputs": [],
   "source": [
    "#base import\n",
    "import os\n",
    "from pathlib import Path\n",
    "import sys\n",
    "import logging\n",
    "import numpy as np\n",
    "import torch\n",
    "from argparse import Namespace"
   ]
  },
  {
   "cell_type": "code",
   "execution_count": 3,
   "metadata": {},
   "outputs": [],
   "source": [
    "# imports from RetrievalModel\n",
    "from mips import MIPS, augment_query, l2_to_ip\n",
    "from retriever import ProjEncoder, DataLoader \n",
    "from utils import move_to_device, asynchronous_load\n",
    "from data import Vocab, BOS, EOS"
   ]
  },
  {
   "cell_type": "code",
   "execution_count": 4,
   "metadata": {},
   "outputs": [],
   "source": [
    "# Initialize logger\n",
    "logger = logging.getLogger(__name__)\n",
    "logging.basicConfig(format='%(asctime)s - %(levelname)s - %(name)s - %(message)s',\n",
    "                    datefmt='%m/%d/%Y %H:%M:%S', level=logging.INFO)"
   ]
  },
  {
   "cell_type": "code",
   "execution_count": 5,
   "metadata": {},
   "outputs": [
    {
     "name": "stdout",
     "output_type": "stream",
     "text": [
      "Parent Directory: c:\\Users\\fahim\\Documents\\startup\\Chemistry_RetroSub\\RetroSub_Research\n"
     ]
    }
   ],
   "source": [
    "# Step 1: Define directories\n",
    "# Current directory\n",
    "current_dir = os.getcwd()\n",
    "current_dir = os.path.dirname(current_dir) # root folder\n",
    "\n",
    "print(f\"Parent Directory: {current_dir}\")"
   ]
  },
  {
   "cell_type": "code",
   "execution_count": 6,
   "metadata": {},
   "outputs": [
    {
     "name": "stdout",
     "output_type": "stream",
     "text": [
      "C:\\Users\\fahim\\Documents\\startup\\Chemistry_RetroSub\\RetroSub_Research\\data\\uspto_full\n"
     ]
    }
   ],
   "source": [
    "# Step 2: Define constants\n",
    "top = 20\n",
    "retrieval_model_dir = Path(\"../ckpts/uspto_full/dual_encoder/epoch116_batch349999_acc0.79\").resolve()\n",
    "data_dir = Path(\"../data/uspto_full\").resolve()\n",
    "print(data_dir)"
   ]
  },
  {
   "cell_type": "code",
   "execution_count": 7,
   "metadata": {},
   "outputs": [
    {
     "name": "stdout",
     "output_type": "stream",
     "text": [
      "c:\\Users\\fahim\\Documents\\startup\\Chemistry_RetroSub\\RetroSub_Research\\demo_data\\test_input_dual_encoder.txt\n",
      "C:\\Users\\fahim\\Documents\\startup\\Chemistry_RetroSub\\RetroSub_Research\\ckpts\\uspto_full\\dual_encoder\\epoch116_batch349999_acc0.79\\mips_index\n"
     ]
    }
   ],
   "source": [
    "# Step 3: Define arguments as a namespace\n",
    "args = Namespace(\n",
    "    input_file=f\"{current_dir}\\\\demo_data\\\\test_input_dual_encoder.txt\",\n",
    "    output_file=f\"{current_dir}\\\\demo_data\\\\test_input_dual_encoder.top{top}.txt\",\n",
    "    ckpt_path=retrieval_model_dir / \"query_encoder\",\n",
    "    args_path=retrieval_model_dir / \"args\",\n",
    "    vocab_path=data_dir / \"retrieval/src.vocab\",\n",
    "    index_file=data_dir / \"candidates.txt\",\n",
    "    index_path=str(retrieval_model_dir / \"mips_index\"),\n",
    "    topk=top,\n",
    "    allow_hit=True,\n",
    "    batch_size=1024,\n",
    "    nprobe=64\n",
    ")\n",
    "\n",
    "print(args.input_file)\n",
    "print(args.index_path)"
   ]
  },
  {
   "cell_type": "markdown",
   "metadata": {},
   "source": [
    "Main function from `search_index.py` :"
   ]
  },
  {
   "cell_type": "code",
   "execution_count": 8,
   "metadata": {},
   "outputs": [
    {
     "name": "stderr",
     "output_type": "stream",
     "text": [
      "12/10/2024 19:19:59 - INFO - __main__ - Loading model...\n",
      "12/10/2024 19:19:59 - INFO - __main__ - Model loaded.\n"
     ]
    }
   ],
   "source": [
    "logger.info('Loading model...')\n",
    "vocab = Vocab(args.vocab_path, 0, [BOS, EOS])\n",
    "model_args = torch.load(args.args_path)\n",
    "model = ProjEncoder.from_pretrained(vocab, model_args, args.ckpt_path)\n",
    "# model.to(device)\n",
    "# model.cuda()\n",
    "# model = torch.nn.DataParallel(model, device_ids=list(range(torch.cuda.device_count())))\n",
    "model.eval()\n",
    "\n",
    "logger.info('Model loaded.')"
   ]
  },
  {
   "cell_type": "code",
   "execution_count": 9,
   "metadata": {},
   "outputs": [
    {
     "name": "stderr",
     "output_type": "stream",
     "text": [
      "12/10/2024 19:20:02 - INFO - __main__ - Collecting data...\n",
      "12/10/2024 19:20:03 - INFO - __main__ - Collected 1 instances\n"
     ]
    }
   ],
   "source": [
    "\n",
    "logger.info('Collecting data...')\n",
    "\n",
    "data_r = []\n",
    "with open(args.index_file) as f:\n",
    "    for line in f.readlines():\n",
    "        r = line.strip()\n",
    "        data_r.append(r)\n",
    "\n",
    "data_q = []\n",
    "data_qr = []\n",
    "with open(args.input_file, 'r') as f:\n",
    "    for line in f.readlines():\n",
    "        q, r = line.strip().split('\\t')\n",
    "        data_q.append(q)\n",
    "        data_qr.append(r)\n",
    "\n",
    "logger.info('Collected %d instances', len(data_q))"
   ]
  },
  {
   "cell_type": "code",
   "execution_count": 10,
   "metadata": {},
   "outputs": [
    {
     "name": "stderr",
     "output_type": "stream",
     "text": [
      "12/10/2024 19:20:06 - INFO - __main__ - Data loader and MIPS done\n"
     ]
    }
   ],
   "source": [
    "textq, textqr, textr = data_q, data_qr, data_r\n",
    "data_loader = DataLoader(data_q, vocab, args.batch_size)\n",
    "\n",
    "mips = MIPS.from_built(args.index_path, nprobe=args.nprobe)\n",
    "max_norm = torch.load(os.path.dirname(args.index_path)+'/max_norm.pt')\n",
    "# mips.to_gpu() \n",
    "logger.info('Data loader and MIPS done')"
   ]
  },
  {
   "cell_type": "code",
   "execution_count": null,
   "metadata": {},
   "outputs": [
    {
     "name": "stderr",
     "output_type": "stream",
     "text": [
      "12/10/2024 19:20:10 - INFO - __main__ - Start search\n",
      "12/10/2024 19:20:11 - INFO - __main__ - finished 1 / 1\n"
     ]
    },
    {
     "name": "stdout",
     "output_type": "stream",
     "text": [
      "['C O C ( = O ) C c 1 c c 2 c c c ( F ) c c 2 c ( - c 2 c c c ( S ( C ) ( = O ) = O ) c n 2 ) c 1 C', 'TGT_PLACEHOLDER', 'C O C ( = O ) C c 1 c c 2 c c c ( F ) c c 2 c ( O S ( = O ) ( = O ) C ( F ) ( F ) F ) c 1 C . C S ( = O ) ( = O ) c 1 c c c ( B ( O ) O ) c c 1', '0.9396535754203796', 'C O C ( = O ) C c 1 c c 2 c c c ( F ) c c 2 c ( O S ( = O ) ( = O ) C ( F ) ( F ) F ) c 1 C . C c 1 c c c c c 1 S ( = O ) ( = O ) c 1 c c c ( B 2 O C ( C ) ( C ) C ( C ) ( C ) O 2 ) c c 1', '0.9394717216491699', 'C C S ( = O ) ( = O ) c 1 c c c ( Br ) n c 1 . C O C ( = O ) C c 1 c c ( O ) c 2 c c ( F ) c c c 2 c 1 C', '0.9388871192932129', 'C O C ( = O ) C c 1 c c 2 c c c ( F ) c c 2 c ( - c 2 c c c ( S ( C ) ( = O ) = O ) c n 2 ) c 1 C', '0.9384120106697083', 'C C S ( = O ) ( = O ) c 1 c c c ( Br ) n c 1 . C O C ( = O ) C c 1 c c 2 c c c ( F ) c c 2 c ( O ) c 1 F', '0.9382520914077759', 'C O C ( = O ) C c 1 c c 2 c c c ( F ) c c 2 c ( O S ( = O ) ( = O ) C ( F ) ( F ) F ) c 1 C . C c 1 c c c ( C B 2 O C ( C ) ( C ) C ( C ) ( C ) O 2 ) c c 1', '0.9373610019683838', 'C O C ( = O ) C c 1 c c 2 c c c ( Cl ) c c 2 c ( O ) c 1 C . C S ( = O ) ( = O ) c 1 c c c ( F ) c c 1', '0.9373210668563843', 'C C C ( = O ) C ( C c 1 c c c ( S ( C ) ( = O ) = O ) c c 1 ) C ( = O ) O C . C O C ( = O ) C O c 1 c c c ( F ) c ( N ) c 1', '0.9364748001098633', 'C O C ( = O ) C ( C C ( = O ) c 1 c c c ( S ( C ) ( = O ) = O ) c c 1 ) C ( C ) = O . N c 1 c c c ( F ) c c 1', '0.9364221096038818', 'C O C ( = O ) C c 1 c c 2 c c c ( F ) c c 2 c ( - c 2 c c c ( S ( C ) ( = O ) = O ) c c 2 ) c 1 C', '0.9363787174224854', 'C C S ( = O ) ( = O ) c 1 c c c ( F ) c c 1 . C O C ( = O ) C c 1 c c ( O ) c 2 c c ( F ) c c c 2 c 1', '0.9361313581466675', 'C O C ( = O ) C c 1 c c ( O ) c 2 c c ( F ) c c c 2 c 1 F . C S ( = O ) ( = O ) c 1 c c c ( Br ) n c 1', '0.9360637664794922', 'C C S ( = O ) ( = O ) c 1 c c c ( Br ) n c 1 . C O C ( = O ) C c 1 c c ( O ) c 2 c c ( F ) c c c 2 c 1 F', '0.9358667135238647', 'C O C ( = O ) C ( C C ( = O ) c 1 c c c ( F ) c c 1 ) ( C C ( = O ) c 1 c c c ( S ( C ) ( = O ) = O ) c c 1 ) C ( = O ) O C', '0.935152530670166', 'C O . C O C ( = O ) C c 1 c c ( C ( O ) c 2 c c c ( S ( C ) ( = O ) = O ) c c 2 ) c 2 c c ( F ) c c c 2 c 1', '0.9350440502166748', 'C c 1 c ( C C ( = O ) O ) c c 2 c c c ( F ) c c 2 c 1 C ( = O ) c 1 c c c ( S ( C ) ( = O ) = O ) c c 1', '0.9346545934677124', 'C C C ( = O ) C ( C c 1 c c c ( S ( = O ) ( = O ) C C ) c c 1 ) C ( = O ) O C . C O C ( = O ) C O c 1 c c c ( F ) c ( N ) c 1', '0.9344815611839294', 'C O C ( = O ) C c 1 c ( C ) [nH] c 2 n c ( Cl ) c c c 1 2 . C S ( = O ) ( = O ) c 1 c c c ( C Br ) c ( C ( F ) ( F ) F ) c 1', '0.9344640970230103', 'C O C ( = O ) C c 1 c c ( O S ( = O ) ( = O ) C ( F ) ( F ) F ) c 2 c c ( F ) c c c 2 c 1 . C S ( = O ) ( = O ) c 1 c c c ( N ) c c 1', '0.9343350529670715', 'C C ( C ) = O . C O C ( = O ) C n 1 c ( C ) c ( O c 2 c c c ( Cl ) c c 2 ) c 2 c c ( S C ) c c c 2 1 . O = S ( [O-] ) O O', '0.9342639446258545']\n"
     ]
    }
   ],
   "source": [
    "logger.info('Start search')\n",
    "cur, tot = 0, len(data_q)\n",
    "with open(args.output_file, 'w') as fo:\n",
    "    for batch in asynchronous_load(data_loader):\n",
    "        with torch.no_grad():\n",
    "            q = torch.from_numpy(batch).contiguous().t() \n",
    "            bsz = q.size(0)\n",
    "            vecsq = model(q, batch_first=True).detach().cpu().numpy()\n",
    "        vecsq = augment_query(vecsq)\n",
    "        D, I = mips.search(vecsq, args.topk+1)\n",
    "        D = l2_to_ip(D, vecsq, max_norm) / (max_norm * max_norm)\n",
    "        for i, (Ii, Di) in enumerate(zip(I, D)):\n",
    "            item = [textq[cur+i], textqr[cur+i]]\n",
    "            for pred, s in zip(Ii, Di):\n",
    "                if args.allow_hit or textr[pred] != textqr[cur+i]:\n",
    "                    item.append(textr[pred])\n",
    "                    item.append(str(float(s)))\n",
    "            item = item[:2+2*args.topk]\n",
    "            assert len(item) == 2+2*args.topk\n",
    "            #print(item)\n",
    "            fo.write('\\t'.join(item)+'\\n')\n",
    "        cur += bsz\n",
    "        logger.info('finished %d / %d', cur, tot)"
   ]
  }
 ],
 "metadata": {
  "kernelspec": {
   "display_name": "retrieval",
   "language": "python",
   "name": "python3"
  },
  "language_info": {
   "codemirror_mode": {
    "name": "ipython",
    "version": 3
   },
   "file_extension": ".py",
   "mimetype": "text/x-python",
   "name": "python",
   "nbconvert_exporter": "python",
   "pygments_lexer": "ipython3",
   "version": "3.6.13"
  }
 },
 "nbformat": 4,
 "nbformat_minor": 2
}
